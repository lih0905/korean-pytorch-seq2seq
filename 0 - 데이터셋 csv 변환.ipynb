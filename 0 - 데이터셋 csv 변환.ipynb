{
 "cells": [
  {
   "cell_type": "markdown",
   "metadata": {},
   "source": [
    "AI Hub 한국어-영어 번역 말뭉치를 하나로 뭉쳐 csv 파일로 저장하는 작업을 수행하자."
   ]
  },
  {
   "cell_type": "code",
   "execution_count": 68,
   "metadata": {},
   "outputs": [],
   "source": [
    "import random\n",
    "import numpy as np\n",
    "\n",
    "SEED = 1234\n",
    "\n",
    "random.seed(SEED)\n",
    "np.random.seed(SEED)\n",
    "import pandas as pd"
   ]
  },
  {
   "cell_type": "code",
   "execution_count": 69,
   "metadata": {},
   "outputs": [
    {
     "data": {
      "text/html": [
       "<div>\n",
       "<style scoped>\n",
       "    .dataframe tbody tr th:only-of-type {\n",
       "        vertical-align: middle;\n",
       "    }\n",
       "\n",
       "    .dataframe tbody tr th {\n",
       "        vertical-align: top;\n",
       "    }\n",
       "\n",
       "    .dataframe thead th {\n",
       "        text-align: right;\n",
       "    }\n",
       "</style>\n",
       "<table border=\"1\" class=\"dataframe\">\n",
       "  <thead>\n",
       "    <tr style=\"text-align: right;\">\n",
       "      <th></th>\n",
       "      <th>ko</th>\n",
       "      <th>en</th>\n",
       "    </tr>\n",
       "  </thead>\n",
       "  <tbody>\n",
       "    <tr>\n",
       "      <th>0</th>\n",
       "      <td>나는 매일 저녁 배트를 만나러 다락방으로 가요.</td>\n",
       "      <td>I go to the attic every evening to meet Bat.</td>\n",
       "    </tr>\n",
       "    <tr>\n",
       "      <th>1</th>\n",
       "      <td>선생님 이문장이 이해가 안 가요.</td>\n",
       "      <td>Sir, I don't understand this sentence here.</td>\n",
       "    </tr>\n",
       "    <tr>\n",
       "      <th>2</th>\n",
       "      <td>컴퓨터를 시작하면 시간이 너무 빠르게 가요.</td>\n",
       "      <td>Time flies when you start using the computer.</td>\n",
       "    </tr>\n",
       "    <tr>\n",
       "      <th>3</th>\n",
       "      <td>나는 오늘 자정에 한국으로 돌아 가요.</td>\n",
       "      <td>I'm going back to Korea today at midnight.</td>\n",
       "    </tr>\n",
       "    <tr>\n",
       "      <th>4</th>\n",
       "      <td>나는 일어나자마자 화장실에 가요.</td>\n",
       "      <td>I go to bathroom as soon as I wake up.</td>\n",
       "    </tr>\n",
       "  </tbody>\n",
       "</table>\n",
       "</div>"
      ],
      "text/plain": [
       "                           ko                                             en\n",
       "0  나는 매일 저녁 배트를 만나러 다락방으로 가요.   I go to the attic every evening to meet Bat.\n",
       "1          선생님 이문장이 이해가 안 가요.    Sir, I don't understand this sentence here.\n",
       "2    컴퓨터를 시작하면 시간이 너무 빠르게 가요.  Time flies when you start using the computer.\n",
       "3       나는 오늘 자정에 한국으로 돌아 가요.     I'm going back to Korea today at midnight.\n",
       "4          나는 일어나자마자 화장실에 가요.         I go to bathroom as soon as I wake up."
      ]
     },
     "execution_count": 69,
     "metadata": {},
     "output_type": "execute_result"
    }
   ],
   "source": [
    "df1 = pd.read_excel('data/1.구어체.xlsx',sheet_name=1,usecols=[1,2],names=['ko','en'])\n",
    "df1.head()"
   ]
  },
  {
   "cell_type": "code",
   "execution_count": 70,
   "metadata": {},
   "outputs": [
    {
     "data": {
      "text/html": [
       "<div>\n",
       "<style scoped>\n",
       "    .dataframe tbody tr th:only-of-type {\n",
       "        vertical-align: middle;\n",
       "    }\n",
       "\n",
       "    .dataframe tbody tr th {\n",
       "        vertical-align: top;\n",
       "    }\n",
       "\n",
       "    .dataframe thead th {\n",
       "        text-align: right;\n",
       "    }\n",
       "</style>\n",
       "<table border=\"1\" class=\"dataframe\">\n",
       "  <thead>\n",
       "    <tr style=\"text-align: right;\">\n",
       "      <th></th>\n",
       "      <th>ko</th>\n",
       "      <th>en</th>\n",
       "    </tr>\n",
       "  </thead>\n",
       "  <tbody>\n",
       "    <tr>\n",
       "      <th>0</th>\n",
       "      <td>이번 신제품 출시에 대한 시장의 반응은 어떤가요?</td>\n",
       "      <td>How is the market's reaction to the newly rele...</td>\n",
       "    </tr>\n",
       "    <tr>\n",
       "      <th>1</th>\n",
       "      <td>판매량이 지난번 제품보다 빠르게 늘고 있습니다.</td>\n",
       "      <td>The sales increase is faster than the previous...</td>\n",
       "    </tr>\n",
       "    <tr>\n",
       "      <th>2</th>\n",
       "      <td>그렇다면 공장에 연락해서 주문량을 더 늘려야겠네요.</td>\n",
       "      <td>Then, we'll have to call the manufacturer and ...</td>\n",
       "    </tr>\n",
       "    <tr>\n",
       "      <th>3</th>\n",
       "      <td>네, 제가 연락해서 주문량을 2배로 늘리겠습니다.</td>\n",
       "      <td>Sure, I'll make a call and double the volume o...</td>\n",
       "    </tr>\n",
       "    <tr>\n",
       "      <th>4</th>\n",
       "      <td>지난 회의 마지막에 논의했던 안건을 다시 볼까요?</td>\n",
       "      <td>Shall we take a look at the issues we discusse...</td>\n",
       "    </tr>\n",
       "  </tbody>\n",
       "</table>\n",
       "</div>"
      ],
      "text/plain": [
       "                             ko  \\\n",
       "0   이번 신제품 출시에 대한 시장의 반응은 어떤가요?   \n",
       "1    판매량이 지난번 제품보다 빠르게 늘고 있습니다.   \n",
       "2  그렇다면 공장에 연락해서 주문량을 더 늘려야겠네요.   \n",
       "3   네, 제가 연락해서 주문량을 2배로 늘리겠습니다.   \n",
       "4   지난 회의 마지막에 논의했던 안건을 다시 볼까요?   \n",
       "\n",
       "                                                  en  \n",
       "0  How is the market's reaction to the newly rele...  \n",
       "1  The sales increase is faster than the previous...  \n",
       "2  Then, we'll have to call the manufacturer and ...  \n",
       "3  Sure, I'll make a call and double the volume o...  \n",
       "4  Shall we take a look at the issues we discusse...  "
      ]
     },
     "execution_count": 70,
     "metadata": {},
     "output_type": "execute_result"
    }
   ],
   "source": [
    "df2 = pd.read_excel('data/2.대화체.xlsx',sheet_name=2,usecols=[5,6],names=['ko','en'])\n",
    "df2.head()"
   ]
  },
  {
   "cell_type": "code",
   "execution_count": 71,
   "metadata": {},
   "outputs": [
    {
     "data": {
      "text/html": [
       "<div>\n",
       "<style scoped>\n",
       "    .dataframe tbody tr th:only-of-type {\n",
       "        vertical-align: middle;\n",
       "    }\n",
       "\n",
       "    .dataframe tbody tr th {\n",
       "        vertical-align: top;\n",
       "    }\n",
       "\n",
       "    .dataframe thead th {\n",
       "        text-align: right;\n",
       "    }\n",
       "</style>\n",
       "<table border=\"1\" class=\"dataframe\">\n",
       "  <thead>\n",
       "    <tr style=\"text-align: right;\">\n",
       "      <th></th>\n",
       "      <th>ko</th>\n",
       "      <th>en</th>\n",
       "    </tr>\n",
       "  </thead>\n",
       "  <tbody>\n",
       "    <tr>\n",
       "      <th>0</th>\n",
       "      <td>하늘길 운항노선도 광주-제주 광주-양양 광주-김해 등 국내는 물론 일본과 중국 등 ...</td>\n",
       "      <td>The airway route will be gradually expanded do...</td>\n",
       "    </tr>\n",
       "    <tr>\n",
       "      <th>1</th>\n",
       "      <td>저가항공보다는 프레미엄 비즈니스 전문 항공사를 추구하는 에어필립은 지방 도시간 항공...</td>\n",
       "      <td>It is expected that Air Philip, which seeks fo...</td>\n",
       "    </tr>\n",
       "    <tr>\n",
       "      <th>2</th>\n",
       "      <td>울릉도와 흑산도 등의 소형공항이 수년 내 문을 열 경우 광주․전남 지역민의 관광 접...</td>\n",
       "      <td>If small airport such as Ulleungdo and Heuksan...</td>\n",
       "    </tr>\n",
       "    <tr>\n",
       "      <th>3</th>\n",
       "      <td>지역민들이 해외여행을 위해 인천공항에 갈 때마다 고속버스에 ‘수화물’을 싣고 내리던...</td>\n",
       "      <td>It mitigated inconvenience of local people tha...</td>\n",
       "    </tr>\n",
       "    <tr>\n",
       "      <th>4</th>\n",
       "      <td>포항출신인 필립에셋 엄일석 회장은 “광주에 18년 동안 살면서 강원도나 인천공항에 ...</td>\n",
       "      <td>Eom Il-seok, president of Phillip Asset, who i...</td>\n",
       "    </tr>\n",
       "  </tbody>\n",
       "</table>\n",
       "</div>"
      ],
      "text/plain": [
       "                                                  ko  \\\n",
       "0  하늘길 운항노선도 광주-제주 광주-양양 광주-김해 등 국내는 물론 일본과 중국 등 ...   \n",
       "1  저가항공보다는 프레미엄 비즈니스 전문 항공사를 추구하는 에어필립은 지방 도시간 항공...   \n",
       "2  울릉도와 흑산도 등의 소형공항이 수년 내 문을 열 경우 광주․전남 지역민의 관광 접...   \n",
       "3  지역민들이 해외여행을 위해 인천공항에 갈 때마다 고속버스에 ‘수화물’을 싣고 내리던...   \n",
       "4  포항출신인 필립에셋 엄일석 회장은 “광주에 18년 동안 살면서 강원도나 인천공항에 ...   \n",
       "\n",
       "                                                  en  \n",
       "0  The airway route will be gradually expanded do...  \n",
       "1  It is expected that Air Philip, which seeks fo...  \n",
       "2  If small airport such as Ulleungdo and Heuksan...  \n",
       "3  It mitigated inconvenience of local people tha...  \n",
       "4  Eom Il-seok, president of Phillip Asset, who i...  "
      ]
     },
     "execution_count": 71,
     "metadata": {},
     "output_type": "execute_result"
    }
   ],
   "source": [
    "df3 = pd.read_excel('data/3.문어체-뉴스.xlsx',sheet_name=0,usecols=[7,8],names=['ko','en'])\n",
    "df3.head()"
   ]
  },
  {
   "cell_type": "code",
   "execution_count": 72,
   "metadata": {},
   "outputs": [
    {
     "data": {
      "text/html": [
       "<div>\n",
       "<style scoped>\n",
       "    .dataframe tbody tr th:only-of-type {\n",
       "        vertical-align: middle;\n",
       "    }\n",
       "\n",
       "    .dataframe tbody tr th {\n",
       "        vertical-align: top;\n",
       "    }\n",
       "\n",
       "    .dataframe thead th {\n",
       "        text-align: right;\n",
       "    }\n",
       "</style>\n",
       "<table border=\"1\" class=\"dataframe\">\n",
       "  <thead>\n",
       "    <tr style=\"text-align: right;\">\n",
       "      <th></th>\n",
       "      <th>ko</th>\n",
       "      <th>en</th>\n",
       "    </tr>\n",
       "  </thead>\n",
       "  <tbody>\n",
       "    <tr>\n",
       "      <th>0</th>\n",
       "      <td>끝으로 “탈퇴 조치가 우리(미국)의 인권헌신에 있어 후퇴가 아니라는 점을 분명히 하...</td>\n",
       "      <td>Finally, he explained, \"I want to make it clea...</td>\n",
       "    </tr>\n",
       "    <tr>\n",
       "      <th>1</th>\n",
       "      <td>나 PD는 이어 “내 개인의 명예와 가정이 걸린 만큼 선처는 없을 것”이라면서 “C...</td>\n",
       "      <td>Producer Na went on to say, \"There will be no ...</td>\n",
       "    </tr>\n",
       "    <tr>\n",
       "      <th>2</th>\n",
       "      <td>나경원 자유한국당 원내대표 등 원내대표단이 30일 강원도 인제군 서화면 육군 12사...</td>\n",
       "      <td>Na Kyung-won, floor leader of the main opposit...</td>\n",
       "    </tr>\n",
       "    <tr>\n",
       "      <th>3</th>\n",
       "      <td>나경원 한국당 원내대표는 이날 국회에서 ‘경제비상 극복, 무엇을 해야 하나’ 간담회...</td>\n",
       "      <td>In a meeting at the National Assembly, 'What s...</td>\n",
       "    </tr>\n",
       "    <tr>\n",
       "      <th>4</th>\n",
       "      <td>끈질긴 매체와 이미지 실험, 물성과 질감 탐구를 거친 이정진의 섬세한 작업은 깊고 ...</td>\n",
       "      <td>Lee Jung-jin's delicate work, which has underg...</td>\n",
       "    </tr>\n",
       "  </tbody>\n",
       "</table>\n",
       "</div>"
      ],
      "text/plain": [
       "                                                  ko  \\\n",
       "0  끝으로 “탈퇴 조치가 우리(미국)의 인권헌신에 있어 후퇴가 아니라는 점을 분명히 하...   \n",
       "1  나 PD는 이어 “내 개인의 명예와 가정이 걸린 만큼 선처는 없을 것”이라면서 “C...   \n",
       "2  나경원 자유한국당 원내대표 등 원내대표단이 30일 강원도 인제군 서화면 육군 12사...   \n",
       "3  나경원 한국당 원내대표는 이날 국회에서 ‘경제비상 극복, 무엇을 해야 하나’ 간담회...   \n",
       "4  끈질긴 매체와 이미지 실험, 물성과 질감 탐구를 거친 이정진의 섬세한 작업은 깊고 ...   \n",
       "\n",
       "                                                  en  \n",
       "0  Finally, he explained, \"I want to make it clea...  \n",
       "1  Producer Na went on to say, \"There will be no ...  \n",
       "2  Na Kyung-won, floor leader of the main opposit...  \n",
       "3  In a meeting at the National Assembly, 'What s...  \n",
       "4  Lee Jung-jin's delicate work, which has underg...  "
      ]
     },
     "execution_count": 72,
     "metadata": {},
     "output_type": "execute_result"
    }
   ],
   "source": [
    "df4 = pd.read_excel('data/3.문어체-뉴스.xlsx',sheet_name=1,usecols=[7,9],names=['ko','en'])\n",
    "df4.head()"
   ]
  },
  {
   "cell_type": "markdown",
   "metadata": {},
   "source": [
    "하나의 데이터프레임으로 모아서 저장하자."
   ]
  },
  {
   "cell_type": "code",
   "execution_count": 73,
   "metadata": {},
   "outputs": [
    {
     "data": {
      "text/html": [
       "<div>\n",
       "<style scoped>\n",
       "    .dataframe tbody tr th:only-of-type {\n",
       "        vertical-align: middle;\n",
       "    }\n",
       "\n",
       "    .dataframe tbody tr th {\n",
       "        vertical-align: top;\n",
       "    }\n",
       "\n",
       "    .dataframe thead th {\n",
       "        text-align: right;\n",
       "    }\n",
       "</style>\n",
       "<table border=\"1\" class=\"dataframe\">\n",
       "  <thead>\n",
       "    <tr style=\"text-align: right;\">\n",
       "      <th></th>\n",
       "      <th>ko</th>\n",
       "      <th>en</th>\n",
       "    </tr>\n",
       "  </thead>\n",
       "  <tbody>\n",
       "    <tr>\n",
       "      <th>0</th>\n",
       "      <td>나는 매일 저녁 배트를 만나러 다락방으로 가요.</td>\n",
       "      <td>I go to the attic every evening to meet Bat.</td>\n",
       "    </tr>\n",
       "    <tr>\n",
       "      <th>1</th>\n",
       "      <td>선생님 이문장이 이해가 안 가요.</td>\n",
       "      <td>Sir, I don't understand this sentence here.</td>\n",
       "    </tr>\n",
       "    <tr>\n",
       "      <th>2</th>\n",
       "      <td>컴퓨터를 시작하면 시간이 너무 빠르게 가요.</td>\n",
       "      <td>Time flies when you start using the computer.</td>\n",
       "    </tr>\n",
       "    <tr>\n",
       "      <th>3</th>\n",
       "      <td>나는 오늘 자정에 한국으로 돌아 가요.</td>\n",
       "      <td>I'm going back to Korea today at midnight.</td>\n",
       "    </tr>\n",
       "    <tr>\n",
       "      <th>4</th>\n",
       "      <td>나는 일어나자마자 화장실에 가요.</td>\n",
       "      <td>I go to bathroom as soon as I wake up.</td>\n",
       "    </tr>\n",
       "  </tbody>\n",
       "</table>\n",
       "</div>"
      ],
      "text/plain": [
       "                           ko                                             en\n",
       "0  나는 매일 저녁 배트를 만나러 다락방으로 가요.   I go to the attic every evening to meet Bat.\n",
       "1          선생님 이문장이 이해가 안 가요.    Sir, I don't understand this sentence here.\n",
       "2    컴퓨터를 시작하면 시간이 너무 빠르게 가요.  Time flies when you start using the computer.\n",
       "3       나는 오늘 자정에 한국으로 돌아 가요.     I'm going back to Korea today at midnight.\n",
       "4          나는 일어나자마자 화장실에 가요.         I go to bathroom as soon as I wake up."
      ]
     },
     "execution_count": 73,
     "metadata": {},
     "output_type": "execute_result"
    }
   ],
   "source": [
    "df = pd.concat([df1,df2,df3,df4])\n",
    "df.head()"
   ]
  },
  {
   "cell_type": "markdown",
   "metadata": {},
   "source": [
    "데이터 중 60%는 훈련, 20%는 검증, 20%는 테스트셋으로 나누자."
   ]
  },
  {
   "cell_type": "code",
   "execution_count": 74,
   "metadata": {},
   "outputs": [
    {
     "data": {
      "text/html": [
       "<div>\n",
       "<style scoped>\n",
       "    .dataframe tbody tr th:only-of-type {\n",
       "        vertical-align: middle;\n",
       "    }\n",
       "\n",
       "    .dataframe tbody tr th {\n",
       "        vertical-align: top;\n",
       "    }\n",
       "\n",
       "    .dataframe thead th {\n",
       "        text-align: right;\n",
       "    }\n",
       "</style>\n",
       "<table border=\"1\" class=\"dataframe\">\n",
       "  <thead>\n",
       "    <tr style=\"text-align: right;\">\n",
       "      <th></th>\n",
       "      <th>ko</th>\n",
       "      <th>en</th>\n",
       "      <th>prob</th>\n",
       "    </tr>\n",
       "  </thead>\n",
       "  <tbody>\n",
       "    <tr>\n",
       "      <th>0</th>\n",
       "      <td>나는 매일 저녁 배트를 만나러 다락방으로 가요.</td>\n",
       "      <td>I go to the attic every evening to meet Bat.</td>\n",
       "      <td>0.966454</td>\n",
       "    </tr>\n",
       "    <tr>\n",
       "      <th>1</th>\n",
       "      <td>선생님 이문장이 이해가 안 가요.</td>\n",
       "      <td>Sir, I don't understand this sentence here.</td>\n",
       "      <td>0.440733</td>\n",
       "    </tr>\n",
       "    <tr>\n",
       "      <th>2</th>\n",
       "      <td>컴퓨터를 시작하면 시간이 너무 빠르게 가요.</td>\n",
       "      <td>Time flies when you start using the computer.</td>\n",
       "      <td>0.007491</td>\n",
       "    </tr>\n",
       "    <tr>\n",
       "      <th>3</th>\n",
       "      <td>나는 오늘 자정에 한국으로 돌아 가요.</td>\n",
       "      <td>I'm going back to Korea today at midnight.</td>\n",
       "      <td>0.910976</td>\n",
       "    </tr>\n",
       "    <tr>\n",
       "      <th>4</th>\n",
       "      <td>나는 일어나자마자 화장실에 가요.</td>\n",
       "      <td>I go to bathroom as soon as I wake up.</td>\n",
       "      <td>0.939269</td>\n",
       "    </tr>\n",
       "  </tbody>\n",
       "</table>\n",
       "</div>"
      ],
      "text/plain": [
       "                           ko                                             en  \\\n",
       "0  나는 매일 저녁 배트를 만나러 다락방으로 가요.   I go to the attic every evening to meet Bat.   \n",
       "1          선생님 이문장이 이해가 안 가요.    Sir, I don't understand this sentence here.   \n",
       "2    컴퓨터를 시작하면 시간이 너무 빠르게 가요.  Time flies when you start using the computer.   \n",
       "3       나는 오늘 자정에 한국으로 돌아 가요.     I'm going back to Korea today at midnight.   \n",
       "4          나는 일어나자마자 화장실에 가요.         I go to bathroom as soon as I wake up.   \n",
       "\n",
       "       prob  \n",
       "0  0.966454  \n",
       "1  0.440733  \n",
       "2  0.007491  \n",
       "3  0.910976  \n",
       "4  0.939269  "
      ]
     },
     "execution_count": 74,
     "metadata": {},
     "output_type": "execute_result"
    }
   ],
   "source": [
    "import random\n",
    "df['prob'] = [random.random() for _ in range(len(df))]\n",
    "df.head()"
   ]
  },
  {
   "cell_type": "code",
   "execution_count": 75,
   "metadata": {},
   "outputs": [],
   "source": [
    "def split_df(prob):\n",
    "    if prob < 0.6: return 'train'\n",
    "    elif prob < 0.8: return 'valid'\n",
    "    else: return 'test'"
   ]
  },
  {
   "cell_type": "code",
   "execution_count": 76,
   "metadata": {},
   "outputs": [],
   "source": [
    "df['class'] = df['prob'].apply(split_df)"
   ]
  },
  {
   "cell_type": "code",
   "execution_count": 77,
   "metadata": {},
   "outputs": [
    {
     "data": {
      "text/html": [
       "<div>\n",
       "<style scoped>\n",
       "    .dataframe tbody tr th:only-of-type {\n",
       "        vertical-align: middle;\n",
       "    }\n",
       "\n",
       "    .dataframe tbody tr th {\n",
       "        vertical-align: top;\n",
       "    }\n",
       "\n",
       "    .dataframe thead th {\n",
       "        text-align: right;\n",
       "    }\n",
       "</style>\n",
       "<table border=\"1\" class=\"dataframe\">\n",
       "  <thead>\n",
       "    <tr style=\"text-align: right;\">\n",
       "      <th></th>\n",
       "      <th>ko</th>\n",
       "      <th>en</th>\n",
       "      <th>prob</th>\n",
       "      <th>class</th>\n",
       "    </tr>\n",
       "  </thead>\n",
       "  <tbody>\n",
       "    <tr>\n",
       "      <th>0</th>\n",
       "      <td>나는 매일 저녁 배트를 만나러 다락방으로 가요.</td>\n",
       "      <td>I go to the attic every evening to meet Bat.</td>\n",
       "      <td>0.966454</td>\n",
       "      <td>test</td>\n",
       "    </tr>\n",
       "    <tr>\n",
       "      <th>1</th>\n",
       "      <td>선생님 이문장이 이해가 안 가요.</td>\n",
       "      <td>Sir, I don't understand this sentence here.</td>\n",
       "      <td>0.440733</td>\n",
       "      <td>train</td>\n",
       "    </tr>\n",
       "    <tr>\n",
       "      <th>2</th>\n",
       "      <td>컴퓨터를 시작하면 시간이 너무 빠르게 가요.</td>\n",
       "      <td>Time flies when you start using the computer.</td>\n",
       "      <td>0.007491</td>\n",
       "      <td>train</td>\n",
       "    </tr>\n",
       "    <tr>\n",
       "      <th>3</th>\n",
       "      <td>나는 오늘 자정에 한국으로 돌아 가요.</td>\n",
       "      <td>I'm going back to Korea today at midnight.</td>\n",
       "      <td>0.910976</td>\n",
       "      <td>test</td>\n",
       "    </tr>\n",
       "    <tr>\n",
       "      <th>4</th>\n",
       "      <td>나는 일어나자마자 화장실에 가요.</td>\n",
       "      <td>I go to bathroom as soon as I wake up.</td>\n",
       "      <td>0.939269</td>\n",
       "      <td>test</td>\n",
       "    </tr>\n",
       "    <tr>\n",
       "      <th>...</th>\n",
       "      <td>...</td>\n",
       "      <td>...</td>\n",
       "      <td>...</td>\n",
       "      <td>...</td>\n",
       "    </tr>\n",
       "    <tr>\n",
       "      <th>53911</th>\n",
       "      <td>구체적인 것에 분노하고 여론이 한껏 달아올랐을 때 해야 하는데 일단 그런 게 없고,...</td>\n",
       "      <td>It should be done when the public is angry at ...</td>\n",
       "      <td>0.557385</td>\n",
       "      <td>train</td>\n",
       "    </tr>\n",
       "    <tr>\n",
       "      <th>53912</th>\n",
       "      <td>구체적인 기자회견 내용은 알려지지 않았지만 결국 최근의 의혹에 대한 입장을 표명하는...</td>\n",
       "      <td>The details of the press conference were not k...</td>\n",
       "      <td>0.495226</td>\n",
       "      <td>train</td>\n",
       "    </tr>\n",
       "    <tr>\n",
       "      <th>53913</th>\n",
       "      <td>구체적인 내용은 북·미 간 협상에서 논의될 사안이지만 이번 정상회담에서 핵 리스트를...</td>\n",
       "      <td>Even though the specific details will be discu...</td>\n",
       "      <td>0.166034</td>\n",
       "      <td>train</td>\n",
       "    </tr>\n",
       "    <tr>\n",
       "      <th>53914</th>\n",
       "      <td>구체적인 내용은 후속회담과 실무협상에서 다루기로 했지만 두 정상은 앞으로도 정상외교...</td>\n",
       "      <td>Although the details of the talks will be disc...</td>\n",
       "      <td>0.904523</td>\n",
       "      <td>test</td>\n",
       "    </tr>\n",
       "    <tr>\n",
       "      <th>53915</th>\n",
       "      <td>구체적인 로드맵으로는 북중러 접경 지역 경제특구의 개발, 남·북·러 3각 물류 협력...</td>\n",
       "      <td>Specific road maps include the development of ...</td>\n",
       "      <td>0.731899</td>\n",
       "      <td>valid</td>\n",
       "    </tr>\n",
       "  </tbody>\n",
       "</table>\n",
       "<p>157973 rows × 4 columns</p>\n",
       "</div>"
      ],
      "text/plain": [
       "                                                      ko  \\\n",
       "0                             나는 매일 저녁 배트를 만나러 다락방으로 가요.   \n",
       "1                                     선생님 이문장이 이해가 안 가요.   \n",
       "2                               컴퓨터를 시작하면 시간이 너무 빠르게 가요.   \n",
       "3                                  나는 오늘 자정에 한국으로 돌아 가요.   \n",
       "4                                     나는 일어나자마자 화장실에 가요.   \n",
       "...                                                  ...   \n",
       "53911  구체적인 것에 분노하고 여론이 한껏 달아올랐을 때 해야 하는데 일단 그런 게 없고,...   \n",
       "53912  구체적인 기자회견 내용은 알려지지 않았지만 결국 최근의 의혹에 대한 입장을 표명하는...   \n",
       "53913  구체적인 내용은 북·미 간 협상에서 논의될 사안이지만 이번 정상회담에서 핵 리스트를...   \n",
       "53914  구체적인 내용은 후속회담과 실무협상에서 다루기로 했지만 두 정상은 앞으로도 정상외교...   \n",
       "53915  구체적인 로드맵으로는 북중러 접경 지역 경제특구의 개발, 남·북·러 3각 물류 협력...   \n",
       "\n",
       "                                                      en      prob  class  \n",
       "0           I go to the attic every evening to meet Bat.  0.966454   test  \n",
       "1            Sir, I don't understand this sentence here.  0.440733  train  \n",
       "2          Time flies when you start using the computer.  0.007491  train  \n",
       "3             I'm going back to Korea today at midnight.  0.910976   test  \n",
       "4                 I go to bathroom as soon as I wake up.  0.939269   test  \n",
       "...                                                  ...       ...    ...  \n",
       "53911  It should be done when the public is angry at ...  0.557385  train  \n",
       "53912  The details of the press conference were not k...  0.495226  train  \n",
       "53913  Even though the specific details will be discu...  0.166034  train  \n",
       "53914  Although the details of the talks will be disc...  0.904523   test  \n",
       "53915  Specific road maps include the development of ...  0.731899  valid  \n",
       "\n",
       "[157973 rows x 4 columns]"
      ]
     },
     "execution_count": 77,
     "metadata": {},
     "output_type": "execute_result"
    }
   ],
   "source": [
    "df"
   ]
  },
  {
   "cell_type": "code",
   "execution_count": 82,
   "metadata": {},
   "outputs": [
    {
     "data": {
      "text/html": [
       "<div>\n",
       "<style scoped>\n",
       "    .dataframe tbody tr th:only-of-type {\n",
       "        vertical-align: middle;\n",
       "    }\n",
       "\n",
       "    .dataframe tbody tr th {\n",
       "        vertical-align: top;\n",
       "    }\n",
       "\n",
       "    .dataframe thead th {\n",
       "        text-align: right;\n",
       "    }\n",
       "</style>\n",
       "<table border=\"1\" class=\"dataframe\">\n",
       "  <thead>\n",
       "    <tr style=\"text-align: right;\">\n",
       "      <th></th>\n",
       "      <th>ko</th>\n",
       "      <th>en</th>\n",
       "    </tr>\n",
       "  </thead>\n",
       "  <tbody>\n",
       "    <tr>\n",
       "      <th>1</th>\n",
       "      <td>선생님 이문장이 이해가 안 가요.</td>\n",
       "      <td>Sir, I don't understand this sentence here.</td>\n",
       "    </tr>\n",
       "    <tr>\n",
       "      <th>2</th>\n",
       "      <td>컴퓨터를 시작하면 시간이 너무 빠르게 가요.</td>\n",
       "      <td>Time flies when you start using the computer.</td>\n",
       "    </tr>\n",
       "    <tr>\n",
       "      <th>5</th>\n",
       "      <td>지금 잠을 자면 깨어나지 못할 거 같아서 지금 가요.</td>\n",
       "      <td>If I fall asleep I might not get up so I will ...</td>\n",
       "    </tr>\n",
       "    <tr>\n",
       "      <th>7</th>\n",
       "      <td>대한민국 남자라면 모두 20 대에 의무적으로 군대에 가요.</td>\n",
       "      <td>Korean men have to obligatorily join the army ...</td>\n",
       "    </tr>\n",
       "    <tr>\n",
       "      <th>9</th>\n",
       "      <td>오늘은 새 자동차를 받으러 가요.</td>\n",
       "      <td>Today, I am going to pick up the new car.</td>\n",
       "    </tr>\n",
       "  </tbody>\n",
       "</table>\n",
       "</div>"
      ],
      "text/plain": [
       "                                 ko  \\\n",
       "1                선생님 이문장이 이해가 안 가요.   \n",
       "2          컴퓨터를 시작하면 시간이 너무 빠르게 가요.   \n",
       "5     지금 잠을 자면 깨어나지 못할 거 같아서 지금 가요.   \n",
       "7  대한민국 남자라면 모두 20 대에 의무적으로 군대에 가요.   \n",
       "9                오늘은 새 자동차를 받으러 가요.   \n",
       "\n",
       "                                                  en  \n",
       "1        Sir, I don't understand this sentence here.  \n",
       "2      Time flies when you start using the computer.  \n",
       "5  If I fall asleep I might not get up so I will ...  \n",
       "7  Korean men have to obligatorily join the army ...  \n",
       "9          Today, I am going to pick up the new car.  "
      ]
     },
     "execution_count": 82,
     "metadata": {},
     "output_type": "execute_result"
    }
   ],
   "source": [
    "df_train = df[df['class']=='train'][['ko','en']]\n",
    "df_valid = df[df['class']=='valid'][['ko','en']]\n",
    "df_test = df[df['class']=='test'][['ko','en']]\n",
    "df_train.head()"
   ]
  },
  {
   "cell_type": "code",
   "execution_count": 83,
   "metadata": {},
   "outputs": [
    {
     "data": {
      "text/plain": [
       "(94463, 31688, 31822)"
      ]
     },
     "execution_count": 83,
     "metadata": {},
     "output_type": "execute_result"
    }
   ],
   "source": [
    "len(df_train),len(df_valid),len(df_test)"
   ]
  },
  {
   "cell_type": "code",
   "execution_count": 84,
   "metadata": {},
   "outputs": [],
   "source": [
    "df_train.to_csv('data/train_data.csv',index=False)\n",
    "df_valid.to_csv('data/valid_data.csv',index=False)\n",
    "df_test.to_csv('data/test_data.csv',index=False)"
   ]
  },
  {
   "cell_type": "markdown",
   "metadata": {},
   "source": [
    "어떻게 저장되었는지 확인해보자."
   ]
  },
  {
   "cell_type": "code",
   "execution_count": 88,
   "metadata": {},
   "outputs": [
    {
     "name": "stdout",
     "output_type": "stream",
     "text": [
      "ko,en\n",
      "선생님 이문장이 이해가 안 가요.,\"Sir, I don't understand this sentence here.\"\n",
      "컴퓨터를 시작하면 시간이 너무 빠르게 가요.,Time flies when you start using the computer.\n",
      "지금 잠을 자면 깨어나지 못할 거 같아서 지금 가요.,If I fall asleep I might not get up so I will go right now.\n",
      "대한민국 남자라면 모두 20 대에 의무적으로 군대에 가요.,Korean men have to obligatorily join the army in twenty.\n",
      "cat: 쓰기 오류: 파이프가 깨어짐\n"
     ]
    }
   ],
   "source": [
    "!cat data/train_data.csv | head -n 5"
   ]
  }
 ],
 "metadata": {
  "kernelspec": {
   "display_name": "Python 3",
   "language": "python",
   "name": "python3"
  },
  "language_info": {
   "codemirror_mode": {
    "name": "ipython",
    "version": 3
   },
   "file_extension": ".py",
   "mimetype": "text/x-python",
   "name": "python",
   "nbconvert_exporter": "python",
   "pygments_lexer": "ipython3",
   "version": "3.7.3"
  }
 },
 "nbformat": 4,
 "nbformat_minor": 4
}
